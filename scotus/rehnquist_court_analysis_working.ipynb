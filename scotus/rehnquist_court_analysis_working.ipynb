{
 "cells": [
  {
   "cell_type": "markdown",
   "metadata": {},
   "source": [
    "# Rehnquist Court Analysis (symmetrized data, 2/1/2019)"
   ]
  },
  {
   "cell_type": "markdown",
   "metadata": {},
   "source": [
    "## Correlation matrix"
   ]
  },
  {
   "cell_type": "code",
   "execution_count": 9,
   "metadata": {},
   "outputs": [],
   "source": [
    "import pandas as pd\n",
    "import numpy as np\n",
    "import seaborn as sns\n",
    "import random\n",
    "import matplotlib.pyplot as plt\n",
    "%matplotlib inline"
   ]
  },
  {
   "cell_type": "code",
   "execution_count": 10,
   "metadata": {},
   "outputs": [],
   "source": [
    "sup_court_data = pd.read_csv(\"SCDB_2018_02_justiceCentered_Citation.csv\",encoding = \"ISO-8859-1\")\n",
    "\n",
    "is_rehnquist = ((sup_court_data['term'].astype(int) > 1994) & (sup_court_data['term'].astype(int) < 2005))\n",
    "rehnquist_data = sup_court_data[is_rehnquist]"
   ]
  },
  {
   "cell_type": "code",
   "execution_count": 11,
   "metadata": {},
   "outputs": [],
   "source": [
    "justices = ['JPStevens',\n",
    "            'RBGinsburg',\n",
    "            'DHSouter',\n",
    "            'SGBreyer',\n",
    "            'SDOConnor',\n",
    "            'AMKennedy',\n",
    "            'WHRehnquist',\n",
    "            'AScalia',\n",
    "            'CThomas']"
   ]
  },
  {
   "cell_type": "code",
   "execution_count": 12,
   "metadata": {},
   "outputs": [],
   "source": [
    "to_ising = lambda x: 2 * (x - 1.0) - 1.0\n",
    "voting_data = rehnquist_data.pivot(columns=\"justiceName\", index=\"caseId\", values=\"direction\")\n",
    "voting_data = voting_data[justices]\n",
    "voting_data = voting_data.transform(to_ising)\n",
    "voting_data = voting_data.dropna(0)"
   ]
  },
  {
   "cell_type": "code",
   "execution_count": 19,
   "metadata": {},
   "outputs": [
    {
     "data": {
      "text/html": [
       "<div>\n",
       "<style>\n",
       "    .dataframe thead tr:only-child th {\n",
       "        text-align: right;\n",
       "    }\n",
       "\n",
       "    .dataframe thead th {\n",
       "        text-align: left;\n",
       "    }\n",
       "\n",
       "    .dataframe tbody tr th {\n",
       "        vertical-align: top;\n",
       "    }\n",
       "</style>\n",
       "<table border=\"1\" class=\"dataframe\">\n",
       "  <thead>\n",
       "    <tr style=\"text-align: right;\">\n",
       "      <th>justiceName</th>\n",
       "      <th>JPStevens</th>\n",
       "      <th>RBGinsburg</th>\n",
       "      <th>DHSouter</th>\n",
       "      <th>SGBreyer</th>\n",
       "      <th>SDOConnor</th>\n",
       "      <th>AMKennedy</th>\n",
       "      <th>WHRehnquist</th>\n",
       "      <th>AScalia</th>\n",
       "      <th>CThomas</th>\n",
       "    </tr>\n",
       "    <tr>\n",
       "      <th>justiceName</th>\n",
       "      <th></th>\n",
       "      <th></th>\n",
       "      <th></th>\n",
       "      <th></th>\n",
       "      <th></th>\n",
       "      <th></th>\n",
       "      <th></th>\n",
       "      <th></th>\n",
       "      <th></th>\n",
       "    </tr>\n",
       "  </thead>\n",
       "  <tbody>\n",
       "    <tr>\n",
       "      <th>JPStevens</th>\n",
       "      <td>1.000000</td>\n",
       "      <td>0.663814</td>\n",
       "      <td>0.650055</td>\n",
       "      <td>0.627199</td>\n",
       "      <td>0.412972</td>\n",
       "      <td>0.405069</td>\n",
       "      <td>0.306375</td>\n",
       "      <td>0.247094</td>\n",
       "      <td>0.287003</td>\n",
       "    </tr>\n",
       "    <tr>\n",
       "      <th>RBGinsburg</th>\n",
       "      <td>0.663814</td>\n",
       "      <td>1.000000</td>\n",
       "      <td>0.805355</td>\n",
       "      <td>0.747012</td>\n",
       "      <td>0.534947</td>\n",
       "      <td>0.505388</td>\n",
       "      <td>0.464967</td>\n",
       "      <td>0.372178</td>\n",
       "      <td>0.373414</td>\n",
       "    </tr>\n",
       "    <tr>\n",
       "      <th>DHSouter</th>\n",
       "      <td>0.650055</td>\n",
       "      <td>0.805355</td>\n",
       "      <td>1.000000</td>\n",
       "      <td>0.731575</td>\n",
       "      <td>0.583143</td>\n",
       "      <td>0.548506</td>\n",
       "      <td>0.481781</td>\n",
       "      <td>0.421713</td>\n",
       "      <td>0.429120</td>\n",
       "    </tr>\n",
       "    <tr>\n",
       "      <th>SGBreyer</th>\n",
       "      <td>0.627199</td>\n",
       "      <td>0.747012</td>\n",
       "      <td>0.731575</td>\n",
       "      <td>1.000000</td>\n",
       "      <td>0.606872</td>\n",
       "      <td>0.526068</td>\n",
       "      <td>0.481226</td>\n",
       "      <td>0.354307</td>\n",
       "      <td>0.340426</td>\n",
       "    </tr>\n",
       "    <tr>\n",
       "      <th>SDOConnor</th>\n",
       "      <td>0.412972</td>\n",
       "      <td>0.534947</td>\n",
       "      <td>0.583143</td>\n",
       "      <td>0.606872</td>\n",
       "      <td>1.000000</td>\n",
       "      <td>0.693842</td>\n",
       "      <td>0.704771</td>\n",
       "      <td>0.577161</td>\n",
       "      <td>0.580050</td>\n",
       "    </tr>\n",
       "    <tr>\n",
       "      <th>AMKennedy</th>\n",
       "      <td>0.405069</td>\n",
       "      <td>0.505388</td>\n",
       "      <td>0.548506</td>\n",
       "      <td>0.526068</td>\n",
       "      <td>0.693842</td>\n",
       "      <td>1.000000</td>\n",
       "      <td>0.747677</td>\n",
       "      <td>0.619886</td>\n",
       "      <td>0.628657</td>\n",
       "    </tr>\n",
       "    <tr>\n",
       "      <th>WHRehnquist</th>\n",
       "      <td>0.306375</td>\n",
       "      <td>0.464967</td>\n",
       "      <td>0.481781</td>\n",
       "      <td>0.481226</td>\n",
       "      <td>0.704771</td>\n",
       "      <td>0.747677</td>\n",
       "      <td>1.000000</td>\n",
       "      <td>0.687390</td>\n",
       "      <td>0.696013</td>\n",
       "    </tr>\n",
       "    <tr>\n",
       "      <th>AScalia</th>\n",
       "      <td>0.247094</td>\n",
       "      <td>0.372178</td>\n",
       "      <td>0.421713</td>\n",
       "      <td>0.354307</td>\n",
       "      <td>0.577161</td>\n",
       "      <td>0.619886</td>\n",
       "      <td>0.687390</td>\n",
       "      <td>1.000000</td>\n",
       "      <td>0.835494</td>\n",
       "    </tr>\n",
       "    <tr>\n",
       "      <th>CThomas</th>\n",
       "      <td>0.287003</td>\n",
       "      <td>0.373414</td>\n",
       "      <td>0.429120</td>\n",
       "      <td>0.340426</td>\n",
       "      <td>0.580050</td>\n",
       "      <td>0.628657</td>\n",
       "      <td>0.696013</td>\n",
       "      <td>0.835494</td>\n",
       "      <td>1.000000</td>\n",
       "    </tr>\n",
       "  </tbody>\n",
       "</table>\n",
       "</div>"
      ],
      "text/plain": [
       "justiceName  JPStevens  RBGinsburg  DHSouter  SGBreyer  SDOConnor  AMKennedy  \\\n",
       "justiceName                                                                    \n",
       "JPStevens     1.000000    0.663814  0.650055  0.627199   0.412972   0.405069   \n",
       "RBGinsburg    0.663814    1.000000  0.805355  0.747012   0.534947   0.505388   \n",
       "DHSouter      0.650055    0.805355  1.000000  0.731575   0.583143   0.548506   \n",
       "SGBreyer      0.627199    0.747012  0.731575  1.000000   0.606872   0.526068   \n",
       "SDOConnor     0.412972    0.534947  0.583143  0.606872   1.000000   0.693842   \n",
       "AMKennedy     0.405069    0.505388  0.548506  0.526068   0.693842   1.000000   \n",
       "WHRehnquist   0.306375    0.464967  0.481781  0.481226   0.704771   0.747677   \n",
       "AScalia       0.247094    0.372178  0.421713  0.354307   0.577161   0.619886   \n",
       "CThomas       0.287003    0.373414  0.429120  0.340426   0.580050   0.628657   \n",
       "\n",
       "justiceName  WHRehnquist   AScalia   CThomas  \n",
       "justiceName                                   \n",
       "JPStevens       0.306375  0.247094  0.287003  \n",
       "RBGinsburg      0.464967  0.372178  0.373414  \n",
       "DHSouter        0.481781  0.421713  0.429120  \n",
       "SGBreyer        0.481226  0.354307  0.340426  \n",
       "SDOConnor       0.704771  0.577161  0.580050  \n",
       "AMKennedy       0.747677  0.619886  0.628657  \n",
       "WHRehnquist     1.000000  0.687390  0.696013  \n",
       "AScalia         0.687390  1.000000  0.835494  \n",
       "CThomas         0.696013  0.835494  1.000000  "
      ]
     },
     "execution_count": 19,
     "metadata": {},
     "output_type": "execute_result"
    }
   ],
   "source": [
    "corr"
   ]
  },
  {
   "cell_type": "code",
   "execution_count": 22,
   "metadata": {},
   "outputs": [
    {
     "data": {
      "image/png": "[encoded data removed]",
      "text/plain": [
       "<matplotlib.figure.Figure at 0x110014cf8>"
      ]
     },
     "metadata": {
      "needs_background": "light"
     },
     "output_type": "display_data"
    }
   ],
   "source": [
    "corr = voting_data.corr()\n",
    "gs = sns.cubehelix_palette(50, hue=0.01, rot=0, light=1.0, dark=0.0)\n",
    "sns.heatmap(corr, cmap=gs, xticklabels=corr.columns, yticklabels=corr.columns,  vmin=0.0, vmax=1.0)\n",
    "np.savetxt(\"scotus_correlation.csv\", corr, delimiter=',')"
   ]
  },
  {
   "cell_type": "code",
   "execution_count": 20,
   "metadata": {},
   "outputs": [],
   "source": [
    "a=np.loadtxt(\"scotus_correlation.csv\")"
   ]
  },
  {
   "cell_type": "markdown",
   "metadata": {},
   "source": [
    "## Extracting $J_{ij}$"
   ]
  },
  {
   "cell_type": "code",
   "execution_count": 14,
   "metadata": {},
   "outputs": [],
   "source": [
    "import itertools\n",
    "import matlab.engine\n",
    "import scipy\n",
    "from copy import deepcopy"
   ]
  },
  {
   "cell_type": "code",
   "execution_count": 15,
   "metadata": {},
   "outputs": [],
   "source": [
    "def plot_heatmap(J):\n",
    "    J_ = deepcopy(J)\n",
    "    if J_.shape != (9,9): J_ = J_.reshape((9,9))\n",
    "    cm = sns.diverging_palette(248, 12, sep=1, n=256)\n",
    "    sns.heatmap(J_, cmap=cm, xticklabels=justices, yticklabels=justices,  vmin=-1, vmax=1)"
   ]
  },
  {
   "cell_type": "code",
   "execution_count": 23,
   "metadata": {},
   "outputs": [],
   "source": [
    "all_scotus_states = np.array(list(itertools.product([-1,1], repeat=9)))\n",
    "np.savetxt(\"all_scotus_states.csv\", all_scotus_states, delimiter=\",\")"
   ]
  },
  {
   "cell_type": "code",
   "execution_count": 27,
   "metadata": {},
   "outputs": [],
   "source": [
    "eng = matlab.engine.start_matlab()\n",
    "eng.find_j_matrix(nargout=0)\n",
    "eng.quit()"
   ]
  },
  {
   "cell_type": "code",
   "execution_count": 28,
   "metadata": {},
   "outputs": [],
   "source": [
    "J_matrix = pd.read_csv(\"jij_sols.csv\",encoding = \"ISO-8859-1\", header=None)"
   ]
  },
  {
   "cell_type": "code",
   "execution_count": 29,
   "metadata": {},
   "outputs": [
    {
     "data": {
      "image/png": "[encoded data removed]",
      "text/plain": [
       "<matplotlib.figure.Figure at 0x11008d8d0>"
      ]
     },
     "metadata": {
      "needs_background": "light"
     },
     "output_type": "display_data"
    }
   ],
   "source": [
    "plot_heatmap(J_matrix)"
   ]
  }
 ],
 "metadata": {
  "kernelspec": {
   "display_name": "Python 3",
   "language": "python",
   "name": "python3"
  },
  "language_info": {
   "codemirror_mode": {
    "name": "ipython",
    "version": 3
   },
   "file_extension": ".py",
   "mimetype": "text/x-python",
   "name": "python",
   "nbconvert_exporter": "python",
   "pygments_lexer": "ipython3",
   "version": "3.6.8"
  }
 },
 "nbformat": 4,
 "nbformat_minor": 2
}
