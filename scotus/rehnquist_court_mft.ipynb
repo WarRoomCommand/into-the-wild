{
 "cells": [
  {
   "cell_type": "markdown",
   "metadata": {},
   "source": [
    "# Rehnquist Court Analysis MFT (6/14/2019)"
   ]
  },
  {
   "cell_type": "markdown",
   "metadata": {},
   "source": [
    "## Correlation matrix"
   ]
  },
  {
   "cell_type": "code",
   "execution_count": 131,
   "metadata": {},
   "outputs": [],
   "source": [
    "import pandas as pd\n",
    "import numpy as np\n",
    "import seaborn as sns\n",
    "import random\n",
    "import matplotlib.pyplot as plt\n",
    "from math import *\n",
    "%matplotlib inline"
   ]
  },
  {
   "cell_type": "code",
   "execution_count": 109,
   "metadata": {},
   "outputs": [],
   "source": [
    "sup_court_data = pd.read_csv(\"SCDB_2018_02_justiceCentered_Citation.csv\",encoding = \"ISO-8859-1\")\n",
    "\n",
    "is_rehnquist = ((sup_court_data['term'].astype(int) > 1994) & (sup_court_data['term'].astype(int) < 2005))\n",
    "rehnquist_data = sup_court_data[is_rehnquist]"
   ]
  },
  {
   "cell_type": "code",
   "execution_count": 110,
   "metadata": {},
   "outputs": [],
   "source": [
    "justices = ['JPStevens',\n",
    "            'RBGinsburg',\n",
    "            'DHSouter',\n",
    "            'SGBreyer',\n",
    "            'SDOConnor',\n",
    "            'AMKennedy',\n",
    "            'WHRehnquist',\n",
    "            'AScalia',\n",
    "            'CThomas']"
   ]
  },
  {
   "cell_type": "code",
   "execution_count": 111,
   "metadata": {},
   "outputs": [],
   "source": [
    "to_ising = lambda x: 2 * (x - 1.0) - 1.0\n",
    "voting_data = rehnquist_data.pivot(columns=\"justiceName\", index=\"caseId\", values=\"direction\")\n",
    "voting_data = voting_data[justices]\n",
    "voting_data = voting_data.transform(to_ising)\n",
    "voting_data = voting_data.dropna(0)"
   ]
  },
  {
   "cell_type": "code",
   "execution_count": 112,
   "metadata": {},
   "outputs": [
    {
     "data": {
      "image/png": "[encoded data removed]",
      "text/plain": [
       "<Figure size 432x288 with 2 Axes>"
      ]
     },
     "metadata": {
      "needs_background": "light"
     },
     "output_type": "display_data"
    }
   ],
   "source": [
    "corr = voting_data.corr()\n",
    "gs = sns.cubehelix_palette(50, hue=0.01, rot=0, light=1.0, dark=0.0)\n",
    "sns.heatmap(corr, cmap=gs, xticklabels=corr.columns, yticklabels=corr.columns,  vmin=0.0, vmax=1.0)\n",
    "np.savetxt(\"scotus_correlation.csv\", corr, delimiter=',')"
   ]
  },
  {
   "cell_type": "markdown",
   "metadata": {},
   "source": [
    "## Extracting $J_{ij}$ using Mean Field Theory"
   ]
  },
  {
   "cell_type": "code",
   "execution_count": 71,
   "metadata": {},
   "outputs": [],
   "source": [
    "import itertools\n",
    "import scipy\n",
    "from scipy.optimize import minimize\n",
    "from copy import deepcopy"
   ]
  },
  {
   "cell_type": "code",
   "execution_count": 264,
   "metadata": {},
   "outputs": [],
   "source": [
    "N = 9\n",
    "C = voting_data.corr()\n",
    "ceig = scipy.linalg.eig(C)\n",
    "cvals, cvecs = ceig\n",
    "cvals = np.real(cvals)\n",
    "S, Sinv = cvecs, scipy.linalg.inv(cvecs)\n",
    "J_factor = np.array([[np.power(pvec[i] * (1-pvec[i]) * pvec[j] * (1-pvec[j]), -0.5) for i in range(N)] \n",
    "                     for j in range(N)])\n",
    "J_diag_factor = np.array([[(((pbin[i][j] - pvec[i]*pvec[j]) * (pvec[i] - 0.5))/(pvec[i] * (1-pvec[i])))\\\n",
    "                           - pvec[j] for j in range(N)] for i in range(N)])\n",
    "\n",
    "# Determines p_i and p_{ij} vectors, denoted as pvec and pbin\n",
    "\n",
    "pvec = np.sum((voting_data+1.0)/2) / len(voting_data)\n",
    "pbin = np.zeros((9,9))\n",
    "voting_data_qubo = np.transpose((voting_data_arr + 1.0)/2)\n",
    "for i in range(9):\n",
    "    for j in range(9):\n",
    "        bin_occ = voting_data_qubo[i] * voting_data_qubo[j]\n",
    "        pbin[i][j] = np.average(bin_occ)"
   ]
  },
  {
   "cell_type": "code",
   "execution_count": 316,
   "metadata": {},
   "outputs": [],
   "source": [
    "\n",
    "\n",
    "def log_likelihood(gamma, state, J):\n",
    "    \"\"\" Returns the log likelihood given a tuning parameter gamma, a state, and a J matrix \"\"\"\n",
    "    ising_term = -state@J@state\n",
    "    mft_term = 0.0\n",
    "    for i in range(N):\n",
    "        for j in range(i+1, N):\n",
    "            mft_term += (J[i][j] * J[i][j]) * pvec[i] * (1-pvec[i]) * pvec[j] * (1-pvec[j])\n",
    "    return (ising_term + gamma * mft_term)\n",
    "\n",
    "def get_analytic_J(gamma):\n",
    "    \"\"\" Returns the analytic solution for Jij given a gamma tuning term \"\"\"\n",
    "    jvals = [np.power(0.5 * (cq - gamma + sqrt((cq - gamma)**2 + 4 * gamma)), -1) for cq in cvals]\n",
    "    J_prime = S@np.diag(jvals)@Sinv\n",
    "\n",
    "    J_prime = J_prime - np.diag(np.diag(J_prime))\n",
    "    J_prime = J_prime / J_factor # J_prime is now at Equation 1\n",
    "    J_prime_tmp = deepcopy(J_prime)\n",
    "    \n",
    "    for i in range(N):\n",
    "        J_prime[i][i] = np.sum((J_prime_tmp * J_diag_factor)[i])\n",
    "    return(J_prime)\n",
    "\n",
    "def sample(gamma, start_state, J, num_states = 20 * 810):\n",
    "    \"\"\" Returns N samples. N currently set to 20 * length of voting_data \"\"\"\n",
    "    state_list = [start_state]\n",
    "    old_E = log_likelihood(gamma, start_state, J)\n",
    "    energies = [old_E]\n",
    "    while len(state_list) < num_states:\n",
    "        new_state = deepcopy(state_list[-1])\n",
    "        new_state[np.random.choice(range(9))] *= -1\n",
    "        new_E = log_likelihood(gamma, new_state, J)\n",
    "        if np.exp(-(new_E - old_E)) > np.random.rand():\n",
    "            state_list.append(new_state)\n",
    "            old_E = new_E\n",
    "            energies.append(new_E)\n",
    "    return([np.array(state_list), np.array(energies)])\n",
    "\n",
    "def chi_squared(gamma):\n",
    "    \"\"\" Returns the correlations given a list of all_states (which may not correspond to the true all\n",
    "    states, and will usually not -- MFT) and energies of each of those states. Note that all_states should\n",
    "    be in 0s and 1s. \"\"\"\n",
    "    J = get_analytic_J(gamma)\n",
    "    all_states, energies = sample(gamma, np.random.choice([-1,1], size = N), J, \n",
    "                        num_states = 810 * 20)\n",
    "    all_states = (all_states + 1.0)/2\n",
    "    probs = np.exp(-energies) / np.sum(np.exp(-energies))\n",
    "    chi = 0.0\n",
    "    for i in range(N):\n",
    "        for j in range(i+1, N):\n",
    "            err = (pbin[i][j] * (1 - pbin[i][j])) / len(all_states)\n",
    "            fij_model = np.sum(all_states[:,i] * all_states[:,j] * probs)\n",
    "            chi += (2 / (N * (N+1))) * ((pbin[i][j] - fij_model)**2) / err\n",
    "            # NOTE: This is different from the chi squared function that the paper suggests...that suggests\n",
    "            # using the pbin values\n",
    "    return(chi)\n",
    "        "
   ]
  },
  {
   "cell_type": "code",
   "execution_count": null,
   "metadata": {},
   "outputs": [],
   "source": [
    "scipy.optimize.minimize_scalar(chi_squared)"
   ]
  },
  {
   "cell_type": "code",
   "execution_count": 22,
   "metadata": {},
   "outputs": [],
   "source": [
    "def plot_heatmap(J):\n",
    "    J_ = deepcopy(J)\n",
    "    if J_.shape != (9,9): J_ = J_.reshape((9,9))\n",
    "    cm = sns.diverging_palette(248, 12, sep=1, n=256)\n",
    "    sns.heatmap(J_, cmap=cm, xticklabels=justices, yticklabels=justices,  vmin=-1, vmax=1)"
   ]
  }
 ],
 "metadata": {
  "kernelspec": {
   "display_name": "Python 3",
   "language": "python",
   "name": "python3"
  },
  "language_info": {
   "codemirror_mode": {
    "name": "ipython",
    "version": 3
   },
   "file_extension": ".py",
   "mimetype": "text/x-python",
   "name": "python",
   "nbconvert_exporter": "python",
   "pygments_lexer": "ipython3",
   "version": "3.6.8"
  }
 },
 "nbformat": 4,
 "nbformat_minor": 2
}
