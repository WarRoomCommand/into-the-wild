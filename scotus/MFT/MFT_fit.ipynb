{
 "cells": [
  {
   "cell_type": "markdown",
   "metadata": {},
   "source": [
    "# Fitting MFT $J_{ij}$"
   ]
  },
  {
   "cell_type": "code",
   "execution_count": 9,
   "metadata": {},
   "outputs": [
    {
     "name": "stdout",
     "output_type": "stream",
     "text": [
      "The autoreload extension is already loaded. To reload it, use:\n",
      "  %reload_ext autoreload\n"
     ]
    }
   ],
   "source": [
    "%matplotlib inline\n",
    "%load_ext autoreload"
   ]
  },
  {
   "cell_type": "code",
   "execution_count": 10,
   "metadata": {},
   "outputs": [],
   "source": [
    "autoreload 2"
   ]
  },
  {
   "cell_type": "code",
   "execution_count": 11,
   "metadata": {},
   "outputs": [],
   "source": [
    "from clean_data import voting_data, C, pvec, pbin, J_diag_factor, V, Vinv, cvals, N, justices"
   ]
  },
  {
   "cell_type": "code",
   "execution_count": 12,
   "metadata": {},
   "outputs": [],
   "source": [
    "import pandas as pd\n",
    "import numpy as np\n",
    "import fast\n",
    "from math import sqrt\n",
    "import scipy as sp\n",
    "import scipy.linalg as la"
   ]
  },
  {
   "cell_type": "code",
   "execution_count": 13,
   "metadata": {},
   "outputs": [],
   "source": [
    "def get_analytic_J(gamma):\n",
    "    \"\"\" Returns the analytic solution for Jij given a gamma tuning term \"\"\"\n",
    "    jvals = [np.power(0.5 * (cq - gamma + sqrt((cq - gamma)**2 + 4 * gamma)), -1) for cq in cvals]\n",
    "    J_prime = V@np.diag(jvals)@Vinv\n",
    "    J = np.zeros((9,9))\n",
    "\n",
    "    factor = 0\n",
    "    for i in range(N):\n",
    "        for j in range(N):\n",
    "            factor = sqrt(pvec[i] * (1-pvec[i]) * pvec[j] * (1-pvec[j]))\n",
    "            J[i][j] = J_prime[i][j] / factor\n",
    "            J[j][i] = J_prime[j][i] / factor\n",
    "\n",
    "\n",
    "    for i in range(N):\n",
    "        J[i][i] = 0.0\n",
    "    return(J)\n",
    "\n",
    "def ising_log_likelihood(state, J):\n",
    "    return(-state@J@state)\n",
    "\n",
    "def mft_log_likelihood(J, gamma):\n",
    "    mft_term = 0.0\n",
    "    for i in range(N):\n",
    "        for j in range(i+1, N):\n",
    "            mft_term += (J[i][j] * J[i][j]) * pvec[i] * (1-pvec[i]) * pvec[j] * (1-pvec[j])\n",
    "    return(gamma * mft_term)\n",
    "\n",
    "def my_chi_squared(gamma):\n",
    "    J = get_analytic_J(gamma)\n",
    "    start_state = np.random.choice([-1,1], size = N)\n",
    "    \n",
    "    J = np.loadtxt(\"jij_correct_solution.csv\", delimiter=\",\")\n",
    "    probs, all_states = fast.my_test_sample(gamma, start_state, J, \n",
    "                        num_samples = 16000)\n",
    "    \n",
    "\n",
    "    num_data_pts = 810\n",
    "\n",
    "    chi = 0.0\n",
    "    all_states_transpose = np.transpose((all_states + 1.0) / 2.0)\n",
    "    for i in range(N):\n",
    "        for j in range(i, N):\n",
    "            err = pbin[i][j] * (1-pbin[i][j]) / num_data_pts\n",
    "            pij_model = np.sum(all_states_transpose[i] * all_states_transpose[j] * probs)\n",
    "            chi += (2 / (9 * 10)) * ((pbin[i][j] - pij_model) ** 2) / err\n",
    "    return(chi)"
   ]
  },
  {
   "cell_type": "code",
   "execution_count": 14,
   "metadata": {},
   "outputs": [],
   "source": [
    "import seaborn as sns"
   ]
  },
  {
   "cell_type": "code",
   "execution_count": 15,
   "metadata": {},
   "outputs": [
    {
     "data": {
      "text/plain": [
       "<matplotlib.axes._subplots.AxesSubplot at 0x621c249e8>"
      ]
     },
     "execution_count": 15,
     "metadata": {},
     "output_type": "execute_result"
    },
    {
     "data": {
      "image/png": "[encoded data removed]",
      "text/plain": [
       "<Figure size 432x288 with 2 Axes>"
      ]
     },
     "metadata": {
      "needs_background": "light"
     },
     "output_type": "display_data"
    }
   ],
   "source": [
    "sns.heatmap(get_analytic_J(0))"
   ]
  },
  {
   "cell_type": "code",
   "execution_count": 16,
   "metadata": {},
   "outputs": [
    {
     "data": {
      "text/plain": [
       "45.37150072158263"
      ]
     },
     "execution_count": 16,
     "metadata": {},
     "output_type": "execute_result"
    }
   ],
   "source": [
    "my_chi_squared(0.01)"
   ]
  },
  {
   "cell_type": "code",
   "execution_count": 17,
   "metadata": {},
   "outputs": [
    {
     "ename": "NameError",
     "evalue": "name 'all_states_transpose' is not defined",
     "output_type": "error",
     "traceback": [
      "\u001b[0;31m---------------------------------------------------------------------------\u001b[0m",
      "\u001b[0;31mNameError\u001b[0m                                 Traceback (most recent call last)",
      "\u001b[0;32m<ipython-input-17-e7915d4772b2>\u001b[0m in \u001b[0;36m<module>\u001b[0;34m\u001b[0m\n\u001b[0;32m----> 1\u001b[0;31m \u001b[0mlen\u001b[0m\u001b[0;34m(\u001b[0m\u001b[0mall_states_transpose\u001b[0m\u001b[0;34m[\u001b[0m\u001b[0;36m0\u001b[0m\u001b[0;34m]\u001b[0m\u001b[0;34m)\u001b[0m\u001b[0;34m\u001b[0m\u001b[0;34m\u001b[0m\u001b[0m\n\u001b[0m",
      "\u001b[0;31mNameError\u001b[0m: name 'all_states_transpose' is not defined"
     ]
    }
   ],
   "source": [
    "len(all_states_transpose[0])"
   ]
  },
  {
   "cell_type": "code",
   "execution_count": null,
   "metadata": {},
   "outputs": [],
   "source": [
    "J_correct = np.loadtxt(\"jij_sols.csv\", delimiter=',')"
   ]
  },
  {
   "cell_type": "code",
   "execution_count": null,
   "metadata": {},
   "outputs": [],
   "source": [
    "def plot_heatmap(J):\n",
    "   # J_ = deepcopy(J)\n",
    "    J_ = J\n",
    "    if J_.shape != (9,9): J_ = J_.reshape((9,9))\n",
    "    cm = sns.diverging_palette(248, 12, sep=1, n=256)\n",
    "    sns.heatmap(J_, cmap=cm, xticklabels=justices, yticklabels=justices,  vmin=-1, vmax=1)"
   ]
  },
  {
   "cell_type": "code",
   "execution_count": null,
   "metadata": {},
   "outputs": [],
   "source": [
    "minimize_scalar(my_chi_squared)"
   ]
  },
  {
   "cell_type": "code",
   "execution_count": null,
   "metadata": {},
   "outputs": [],
   "source": [
    "plot_heatmap(J_correct)"
   ]
  },
  {
   "cell_type": "code",
   "execution_count": null,
   "metadata": {},
   "outputs": [],
   "source": [
    "my_chi_squared(2.0)"
   ]
  },
  {
   "cell_type": "code",
   "execution_count": 18,
   "metadata": {},
   "outputs": [
    {
     "ename": "NameError",
     "evalue": "name 'plot_heatmap' is not defined",
     "output_type": "error",
     "traceback": [
      "\u001b[0;31m---------------------------------------------------------------------------\u001b[0m",
      "\u001b[0;31mNameError\u001b[0m                                 Traceback (most recent call last)",
      "\u001b[0;32m<ipython-input-18-8c619248eb80>\u001b[0m in \u001b[0;36m<module>\u001b[0;34m\u001b[0m\n\u001b[0;32m----> 1\u001b[0;31m \u001b[0mplot_heatmap\u001b[0m\u001b[0;34m(\u001b[0m\u001b[0mget_analytic_J\u001b[0m\u001b[0;34m(\u001b[0m\u001b[0;36m18.67886865848606\u001b[0m\u001b[0;34m)\u001b[0m\u001b[0;34m)\u001b[0m\u001b[0;34m\u001b[0m\u001b[0;34m\u001b[0m\u001b[0m\n\u001b[0m",
      "\u001b[0;31mNameError\u001b[0m: name 'plot_heatmap' is not defined"
     ]
    }
   ],
   "source": [
    "plot_heatmap(get_analytic_J(18.67886865848606))"
   ]
  },
  {
   "cell_type": "code",
   "execution_count": 205,
   "metadata": {},
   "outputs": [],
   "source": [
    "def myf(gamma):\n",
    "    J = get_analytic_J(gamma)\n",
    "    A = J - J_correct\n",
    "    return(np.sum(np.square(A.reshape((81)))))\n",
    "    "
   ]
  },
  {
   "cell_type": "code",
   "execution_count": 206,
   "metadata": {},
   "outputs": [
    {
     "data": {
      "text/plain": [
       "707.4255527190817"
      ]
     },
     "execution_count": 206,
     "metadata": {},
     "output_type": "execute_result"
    }
   ],
   "source": [
    "myf(0.002)"
   ]
  },
  {
   "cell_type": "code",
   "execution_count": 192,
   "metadata": {},
   "outputs": [],
   "source": [
    "f=np.sum(pvec) / 9"
   ]
  },
  {
   "cell_type": "code",
   "execution_count": null,
   "metadata": {},
   "outputs": [],
   "source": [
    "γ = 1/(10Nf 2\n",
    "(1 − f)\n",
    "2\n",
    ")"
   ]
  }
 ],
 "metadata": {
  "kernelspec": {
   "display_name": "Python 3",
   "language": "python",
   "name": "python3"
  },
  "language_info": {
   "codemirror_mode": {
    "name": "ipython",
    "version": 3
   },
   "file_extension": ".py",
   "mimetype": "text/x-python",
   "name": "python",
   "nbconvert_exporter": "python",
   "pygments_lexer": "ipython3",
   "version": "3.6.8"
  }
 },
 "nbformat": 4,
 "nbformat_minor": 2
}
