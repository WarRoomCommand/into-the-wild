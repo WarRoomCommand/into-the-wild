{
 "cells": [
  {
   "cell_type": "markdown",
   "metadata": {},
   "source": [
    "# Rehnquist Court Analysis MFT (6/14/2019)"
   ]
  },
  {
   "cell_type": "markdown",
   "metadata": {},
   "source": [
    "## Correlation matrix"
   ]
  },
  {
   "cell_type": "code",
   "execution_count": 1,
   "metadata": {},
   "outputs": [],
   "source": [
    "import pandas as pd\n",
    "import numpy as np\n",
    "import seaborn as sns\n",
    "import random\n",
    "import matplotlib.pyplot as plt\n",
    "from math import *\n",
    "%matplotlib inline"
   ]
  },
  {
   "cell_type": "code",
   "execution_count": 2,
   "metadata": {},
   "outputs": [],
   "source": [
    "%load_ext autoreload"
   ]
  },
  {
   "cell_type": "code",
   "execution_count": 3,
   "metadata": {},
   "outputs": [],
   "source": [
    "autoreload 2"
   ]
  },
  {
   "cell_type": "code",
   "execution_count": 4,
   "metadata": {},
   "outputs": [],
   "source": [
    "sup_court_data = pd.read_csv(\"SCDB_2018_02_justiceCentered_Citation.csv\",encoding = \"ISO-8859-1\")\n",
    "\n",
    "is_rehnquist = ((sup_court_data['term'].astype(int) > 1994) & (sup_court_data['term'].astype(int) < 2005))\n",
    "rehnquist_data = sup_court_data[is_rehnquist]"
   ]
  },
  {
   "cell_type": "code",
   "execution_count": 5,
   "metadata": {},
   "outputs": [],
   "source": [
    "justices = ['JPStevens',\n",
    "            'RBGinsburg',\n",
    "            'DHSouter',\n",
    "            'SGBreyer',\n",
    "            'SDOConnor',\n",
    "            'AMKennedy',\n",
    "            'WHRehnquist',\n",
    "            'AScalia',\n",
    "            'CThomas']"
   ]
  },
  {
   "cell_type": "code",
   "execution_count": 6,
   "metadata": {},
   "outputs": [],
   "source": [
    "to_ising = lambda x: 2 * (x - 1.0) - 1.0\n",
    "voting_data = rehnquist_data.pivot(columns=\"justiceName\", index=\"caseId\", values=\"direction\")\n",
    "voting_data = voting_data[justices]\n",
    "voting_data = voting_data.transform(to_ising)\n",
    "voting_data = voting_data.dropna(0)"
   ]
  },
  {
   "cell_type": "code",
   "execution_count": 7,
   "metadata": {},
   "outputs": [
    {
     "data": {
      "image/png": "[encoded data removed]",
      "text/plain": [
       "<Figure size 432x288 with 2 Axes>"
      ]
     },
     "metadata": {
      "needs_background": "light"
     },
     "output_type": "display_data"
    }
   ],
   "source": [
    "corr = voting_data.corr()\n",
    "gs = sns.cubehelix_palette(50, hue=0.01, rot=0, light=1.0, dark=0.0)\n",
    "sns.heatmap(corr, cmap=gs, xticklabels=corr.columns, yticklabels=corr.columns,  vmin=0.0, vmax=1.0)\n",
    "plt.tight_layout()\n",
    "plt.savefig(\"../../writeups/correlations.png\")\n",
    "np.savetxt(\"scotus_correlation.csv\", corr, delimiter=',')"
   ]
  },
  {
   "cell_type": "markdown",
   "metadata": {},
   "source": [
    "## Extracting $J_{ij}$ using Mean Field Theory"
   ]
  },
  {
   "cell_type": "markdown",
   "metadata": {},
   "source": [
    "Note that this paper is super helpful: https://arxiv.org/pdf/1601.03449.pdf\n",
    "\n",
    "1) Just sample once lol\n",
    "\n",
    "2) Make sure that you're getting the right initial answer."
   ]
  },
  {
   "cell_type": "code",
   "execution_count": 8,
   "metadata": {},
   "outputs": [],
   "source": [
    "import itertools\n",
    "import scipy\n",
    "from scipy.optimize import minimize\n",
    "from copy import copy"
   ]
  },
  {
   "cell_type": "code",
   "execution_count": 9,
   "metadata": {},
   "outputs": [],
   "source": [
    "# Determines p_i and p_{ij} vectors, denoted as pvec and pbin\n",
    "\n",
    "pvec = np.sum((voting_data+1.0)/2) / len(voting_data)\n",
    "pbin = np.zeros((9,9))\n",
    "voting_data_qubo = np.array(np.transpose((voting_data + 1.0)/2))\n",
    "for i in range(9):\n",
    "    for j in range(9):\n",
    "        bin_occ = voting_data_qubo[i] * voting_data_qubo[j]\n",
    "        pbin[i][j] = np.average(bin_occ)\n",
    "\n",
    "N = 9\n",
    "C = voting_data.corr()\n",
    "\n",
    "\n",
    "J_diag_factor = np.array([[(((pbin[i][j] - pvec[i]*pvec[j]) * (pvec[i] - 0.5))/(pvec[i] * (1-pvec[i])))\\\n",
    "                           - pvec[j] for j in range(N)] for i in range(N)])"
   ]
  },
  {
   "cell_type": "code",
   "execution_count": 127,
   "metadata": {},
   "outputs": [],
   "source": [
    "ceig = scipy.linalg.eig(C)\n",
    "cvals, cvecs = ceig\n",
    "cvals = np.real(cvals)\n",
    "V = cvecs\n",
    "Vinv = np.transpose(cvecs)\n",
    "\n",
    "def get_analytic_J(gamma):\n",
    "    \"\"\" Returns the analytic solution for Jij given a gamma tuning term \"\"\"\n",
    "    jvals = [np.power(0.5 * (cq - gamma + sqrt((cq - gamma)**2 + 4 * gamma)), -1) for cq in cvals]\n",
    "    J_prime = V@np.diag(jvals)@Vinv\n",
    "    J = np.zeros((9,9))\n",
    "    return(J_prime)\n",
    "\n",
    "    factor = 0\n",
    "    for i in range(N):\n",
    "        for j in range(i+1, N):\n",
    "            factor = sqrt(pvec[i] * (1-pvec[i]) * pvec[j] * (1-pvec[j]))\n",
    "            J[i][j] = J_prime[i][j] / factor\n",
    "            J[j][i] = J_prime[j][i] / factor\n",
    "    # Ignoring the below lines of code automatically sets the diagonal to 0. That isn't \n",
    "    # what the paper says it eh correct analytic solution, but I think it's reasonable since we\n",
    "    # know that's what the correct answer should in general be.\n",
    "    \"\"\"\n",
    "    for i in range(N):\n",
    "        diag_elem = 0.0\n",
    "        for j in range(N):\n",
    "            if i != j: diag_elem += J[i][j] * ((pbin[i][j] - pvec[i] * pvec[j]) * (pvec[i] - 0.5) / \n",
    "                                              (pvec[i] * (1-pvec[i])) - pvec[j])\n",
    "            J[i][i] = diag_elem\n",
    "    \"\"\"\n",
    "    return(J)"
   ]
  },
  {
   "cell_type": "code",
   "execution_count": 11,
   "metadata": {},
   "outputs": [],
   "source": [
    "def ising_log_likelihood(state, J):\n",
    "    return(-state@J@state)\n",
    "\n",
    "def mft_log_likelihood(J, gamma):\n",
    "    mft_term = 0.0\n",
    "    for i in range(N):\n",
    "        for j in range(i+1, N):\n",
    "            mft_term += (J[i][j] * J[i][j]) * pvec[i] * (1-pvec[i]) * pvec[j] * (1-pvec[j])\n",
    "    return(gamma * mft_term)\n",
    "\n",
    "def total_log_likelihood(state, J, gamma):\n",
    "    return(ising_log_likelihood(state, J) + mft_log_likelihood(state, J, gamma))"
   ]
  },
  {
   "cell_type": "code",
   "execution_count": 12,
   "metadata": {},
   "outputs": [],
   "source": [
    "def fast_sample(gamma, start_state, J, num_samples = 100):\n",
    "    \"\"\" Returns num_samples samples. Makes two main adjustments\n",
    "    1) Don't recalculate the MFT energy factor, just add it on at the end.\n",
    "    2) Only calculate differences in energy\n",
    "    \"\"\"\n",
    "    state_list = [start_state]\n",
    "    old_E = ising_log_likelihood(start_state, J)\n",
    "    energies = [old_E]\n",
    "    \n",
    "    while len(state_list) < num_samples:\n",
    "        new_state = copy(state_list[-1])\n",
    "        k = np.random.choice(range(N))\n",
    "\n",
    "        # The below line is ONLY valid if J[k][k] = 0! Importantly, this is not what the cited paper \n",
    "        # does, but we know that we should be able to throw out quadratic terms. \n",
    "        dE = 4 * new_state[k] * (J[k] @ new_state)\n",
    "        accept = (np.exp(-dE) > np.random.rand())\n",
    "        if accept:\n",
    "            new_state[k] *= -1\n",
    "            state_list.append(new_state)\n",
    "            energies.append(energies[-1] + dE)\n",
    "    \n",
    "    energies += mft_log_likelihood(J, gamma)\n",
    "    return([energies, state_list])"
   ]
  },
  {
   "cell_type": "code",
   "execution_count": 19,
   "metadata": {},
   "outputs": [],
   "source": [
    "J = np.loadtxt(\"jij_sols.csv\", delimiter=',')"
   ]
  },
  {
   "cell_type": "markdown",
   "metadata": {},
   "source": [
    "## EVERYHING BELOW IS NOT OPTIMIZED"
   ]
  },
  {
   "cell_type": "code",
   "execution_count": 20,
   "metadata": {},
   "outputs": [],
   "source": [
    "def my_chi_squared(gamma):\n",
    "    J = get_analytic_J(gamma)\n",
    "   # start_state = np.random.choice([-1,1], size = N)\n",
    "    start_state = np.array([ 1, -1 ,-1,  1 , 1, -1,  1, -1,  1])\n",
    "    print(start_state)\n",
    "    probs, all_states = fast.cfast_sample(gamma, start_state, J, \n",
    "                        num_samples = 1000)\n",
    "    print(\"done\")\n",
    "    num_data_pts = 810\n",
    "    return(0)\n",
    "    chi = 0.0\n",
    "    all_states_transpose = np.transpose((all_states + 1.0) / 2.0)\n",
    "    for i in range(N):\n",
    "        for j in range(i, N):\n",
    "            err = pbin[i][j] * (1-pbin[i][j]) / num_data_pts\n",
    "            pij_model = all_states_transpose[i] * all_states_transpose[j] * probs\n",
    "            chi += (2 / (9 * 10)) * ((pbin[i][j] - pij_model) ** 2) / err\n",
    "    return(chi)"
   ]
  },
  {
   "cell_type": "code",
   "execution_count": null,
   "metadata": {},
   "outputs": [],
   "source": [
    "def plot_heatmap(J):\n",
    "    J_ = deepcopy(J)\n",
    "    if J_.shape != (9,9): J_ = J_.reshape((9,9))\n",
    "    cm = sns.diverging_palette(248, 12, sep=1, n=256)\n",
    "    sns.heatmap(J_, cmap=cm, xticklabels=justices, yticklabels=justices,  vmin=-1, vmax=1)"
   ]
  }
 ],
 "metadata": {
  "kernelspec": {
   "display_name": "Python 3",
   "language": "python",
   "name": "python3"
  },
  "language_info": {
   "codemirror_mode": {
    "name": "ipython",
    "version": 3
   },
   "file_extension": ".py",
   "mimetype": "text/x-python",
   "name": "python",
   "nbconvert_exporter": "python",
   "pygments_lexer": "ipython3",
   "version": "3.6.8"
  }
 },
 "nbformat": 4,
 "nbformat_minor": 2
}
