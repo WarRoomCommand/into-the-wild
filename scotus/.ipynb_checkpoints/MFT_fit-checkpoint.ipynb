{
 "cells": [
  {
   "cell_type": "markdown",
   "metadata": {},
   "source": [
    "# Fitting MFT $J_{ij}$"
   ]
  },
  {
   "cell_type": "code",
   "execution_count": 2,
   "metadata": {},
   "outputs": [],
   "source": [
    "%matplotlib inline\n",
    "%load_ext autoreload"
   ]
  },
  {
   "cell_type": "code",
   "execution_count": 3,
   "metadata": {},
   "outputs": [],
   "source": [
    "autoreload 2"
   ]
  },
  {
   "cell_type": "code",
   "execution_count": 4,
   "metadata": {},
   "outputs": [],
   "source": [
    "from clean_data import voting_data, C, pvec, pbin, J_diag_factor, S, Sinv, cvals, N, justices"
   ]
  },
  {
   "cell_type": "code",
   "execution_count": 5,
   "metadata": {},
   "outputs": [
    {
     "ename": "ModuleNotFoundError",
     "evalue": "No module named 'fast'",
     "output_type": "error",
     "traceback": [
      "\u001b[0;31m---------------------------------------------------------------------------\u001b[0m",
      "\u001b[0;31mModuleNotFoundError\u001b[0m                       Traceback (most recent call last)",
      "\u001b[0;32m<ipython-input-5-6a44111b00dc>\u001b[0m in \u001b[0;36m<module>\u001b[0;34m\u001b[0m\n\u001b[1;32m      1\u001b[0m \u001b[0;32mimport\u001b[0m \u001b[0mpandas\u001b[0m \u001b[0;32mas\u001b[0m \u001b[0mpd\u001b[0m\u001b[0;34m\u001b[0m\u001b[0;34m\u001b[0m\u001b[0m\n\u001b[1;32m      2\u001b[0m \u001b[0;32mimport\u001b[0m \u001b[0mnumpy\u001b[0m \u001b[0;32mas\u001b[0m \u001b[0mnp\u001b[0m\u001b[0;34m\u001b[0m\u001b[0;34m\u001b[0m\u001b[0m\n\u001b[0;32m----> 3\u001b[0;31m \u001b[0;32mimport\u001b[0m \u001b[0mfast\u001b[0m\u001b[0;34m\u001b[0m\u001b[0;34m\u001b[0m\u001b[0m\n\u001b[0m",
      "\u001b[0;31mModuleNotFoundError\u001b[0m: No module named 'fast'"
     ]
    }
   ],
   "source": [
    "import pandas as pd\n",
    "import numpy as np\n",
    "import fast"
   ]
  },
  {
   "cell_type": "code",
   "execution_count": 11,
   "metadata": {},
   "outputs": [],
   "source": [
    "def get_analytic_J(gamma):\n",
    "    \"\"\" Returns the analytic solution for Jij given a gamma tuning term \"\"\"\n",
    "    jvals = [np.power(0.5 * (cq - gamma + np.sqrt((cq - gamma)**2 + 4 * gamma)), -1) for cq in cvals]\n",
    "    J_prime = S@np.diag(jvals)@Sinv\n",
    "    J = np.zeros((9,9))\n",
    "    \n",
    "    factor = 0\n",
    "    for i in range(N):\n",
    "        for j in range(i+1, N):\n",
    "            factor = np.sqrt(pvec[i] * (1-pvec[i]) * pvec[j] * (1-pvec[j]))\n",
    "            J[i][j] = J_prime[i][j] / factor\n",
    "            J[j][i] = J_prime[j][i] / factor\n",
    "    # Ignoring the below lines of code automatically sets the diagonal to 0. That isn't \n",
    "    # what the paper says it eh correct analytic solution, but I think it's reasonable since we\n",
    "    # know that's what the correct answer should in general be.\n",
    "    \"\"\"\n",
    "    for i in range(N):\n",
    "        diag_elem = 0.0\n",
    "        for j in range(N):\n",
    "            if i != j: diag_elem += J[i][j] * ((pbin[i][j] - pvec[i] * pvec[j]) * (pvec[i] - 0.5) / \n",
    "                                              (pvec[i] * (1-pvec[i])) - pvec[j])\n",
    "            J[i][i] = diag_elem\n",
    "    \"\"\"\n",
    "    return(J)\n",
    "\n",
    "def ising_log_likelihood(state, J):\n",
    "    return(-state@J@state)\n",
    "\n",
    "def mft_log_likelihood(J, gamma):\n",
    "    mft_term = 0.0\n",
    "    for i in range(N):\n",
    "        for j in range(i+1, N):\n",
    "            mft_term += (J[i][j] * J[i][j]) * pvec[i] * (1-pvec[i]) * pvec[j] * (1-pvec[j])\n",
    "    return(gamma * mft_term)\n",
    "\n",
    "def my_chi_squared(gamma):\n",
    "    J = -1 * get_analytic_J(gamma)\n",
    "    start_state = np.random.choice([-1,1], size = N)\n",
    "    \n",
    "    #J = np.loadtxt(\"jij_sols.csv\", delimiter=\",\")\n",
    "    probs, all_states = fast.my_test_sample(gamma, start_state, J, \n",
    "                        num_samples = 16000)\n",
    "    \n",
    "\n",
    "    num_data_pts = 810\n",
    "\n",
    "    chi = 0.0\n",
    "    all_states_transpose = np.transpose((all_states + 1.0) / 2.0)\n",
    "    for i in range(N):\n",
    "        for j in range(i, N):\n",
    "            err = pbin[i][j] * (1-pbin[i][j]) / num_data_pts\n",
    "            pij_model = np.sum(all_states_transpose[i] * all_states_transpose[j] * probs)\n",
    "            chi += (2 / (9 * 10)) * ((pbin[i][j] - pij_model) ** 2) / err\n",
    "    return(chi)"
   ]
  },
  {
   "cell_type": "code",
   "execution_count": null,
   "metadata": {},
   "outputs": [],
   "source": [
    "J_correct = np.loadtxt(\"jij_sols.csv\", delimiter=',')"
   ]
  },
  {
   "cell_type": "code",
   "execution_count": null,
   "metadata": {},
   "outputs": [],
   "source": [
    "my_chi_squared(0)"
   ]
  },
  {
   "cell_type": "code",
   "execution_count": null,
   "metadata": {},
   "outputs": [],
   "source": [
    "def plot_heatmap(J):\n",
    "   # J_ = deepcopy(J)\n",
    "    J_ = J\n",
    "    if J_.shape != (9,9): J_ = J_.reshape((9,9))\n",
    "    cm = sns.diverging_palette(248, 12, sep=1, n=256)\n",
    "    sns.heatmap(J_, cmap=cm, xticklabels=justices, yticklabels=justices,  vmin=-1, vmax=1)"
   ]
  },
  {
   "cell_type": "code",
   "execution_count": null,
   "metadata": {},
   "outputs": [],
   "source": [
    "import seaborn as sns"
   ]
  },
  {
   "cell_type": "code",
   "execution_count": null,
   "metadata": {},
   "outputs": [],
   "source": [
    "plot_heatmap(get_analytic_J(1e15))"
   ]
  },
  {
   "cell_type": "code",
   "execution_count": null,
   "metadata": {},
   "outputs": [],
   "source": [
    "plot_heatmap(J_correct)"
   ]
  },
  {
   "cell_type": "code",
   "execution_count": null,
   "metadata": {},
   "outputs": [],
   "source": [
    "myf(200000000000)"
   ]
  },
  {
   "cell_type": "code",
   "execution_count": null,
   "metadata": {},
   "outputs": [],
   "source": [
    "myf(2060848.7340546646)"
   ]
  },
  {
   "cell_type": "code",
   "execution_count": 6,
   "metadata": {},
   "outputs": [
    {
     "ename": "NameError",
     "evalue": "name 'A' is not defined",
     "output_type": "error",
     "traceback": [
      "\u001b[0;31m---------------------------------------------------------------------------\u001b[0m",
      "\u001b[0;31mNameError\u001b[0m                                 Traceback (most recent call last)",
      "\u001b[0;32m<ipython-input-6-b11a6b1d642b>\u001b[0m in \u001b[0;36m<module>\u001b[0;34m\u001b[0m\n\u001b[0;32m----> 1\u001b[0;31m \u001b[0mA\u001b[0m\u001b[0;34m.\u001b[0m\u001b[0mreshape\u001b[0m\u001b[0;34m(\u001b[0m\u001b[0;36m81\u001b[0m\u001b[0;34m)\u001b[0m\u001b[0;34m\u001b[0m\u001b[0;34m\u001b[0m\u001b[0m\n\u001b[0m",
      "\u001b[0;31mNameError\u001b[0m: name 'A' is not defined"
     ]
    }
   ],
   "source": [
    "A.reshape(81)"
   ]
  },
  {
   "cell_type": "code",
   "execution_count": 7,
   "metadata": {},
   "outputs": [],
   "source": [
    "def myf(gamma):\n",
    "    J = get_analytic_J(gamma)\n",
    "    A = J - J_correct\n",
    "    return(np.sum(A.reshape((81)))**2)\n",
    "    "
   ]
  },
  {
   "cell_type": "code",
   "execution_count": 8,
   "metadata": {},
   "outputs": [
    {
     "ename": "NameError",
     "evalue": "name 'minimize_scalar' is not defined",
     "output_type": "error",
     "traceback": [
      "\u001b[0;31m---------------------------------------------------------------------------\u001b[0m",
      "\u001b[0;31mNameError\u001b[0m                                 Traceback (most recent call last)",
      "\u001b[0;32m<ipython-input-8-5eacff116f7d>\u001b[0m in \u001b[0;36m<module>\u001b[0;34m\u001b[0m\n\u001b[0;32m----> 1\u001b[0;31m \u001b[0mminimize_scalar\u001b[0m\u001b[0;34m(\u001b[0m\u001b[0mmyf\u001b[0m\u001b[0;34m)\u001b[0m\u001b[0;34m\u001b[0m\u001b[0;34m\u001b[0m\u001b[0m\n\u001b[0m",
      "\u001b[0;31mNameError\u001b[0m: name 'minimize_scalar' is not defined"
     ]
    }
   ],
   "source": [
    "minimize_scalar(myf)"
   ]
  },
  {
   "cell_type": "code",
   "execution_count": 16,
   "metadata": {},
   "outputs": [
    {
     "data": {
      "text/html": [
       "<div>\n",
       "<style scoped>\n",
       "    .dataframe tbody tr th:only-of-type {\n",
       "        vertical-align: middle;\n",
       "    }\n",
       "\n",
       "    .dataframe tbody tr th {\n",
       "        vertical-align: top;\n",
       "    }\n",
       "\n",
       "    .dataframe thead th {\n",
       "        text-align: right;\n",
       "    }\n",
       "</style>\n",
       "<table border=\"1\" class=\"dataframe\">\n",
       "  <thead>\n",
       "    <tr style=\"text-align: right;\">\n",
       "      <th></th>\n",
       "      <th>0</th>\n",
       "      <th>1</th>\n",
       "      <th>2</th>\n",
       "      <th>3</th>\n",
       "      <th>4</th>\n",
       "      <th>5</th>\n",
       "      <th>6</th>\n",
       "      <th>7</th>\n",
       "      <th>8</th>\n",
       "    </tr>\n",
       "  </thead>\n",
       "  <tbody>\n",
       "    <tr>\n",
       "      <th>0</th>\n",
       "      <td>-0.000000</td>\n",
       "      <td>0.144244</td>\n",
       "      <td>0.140904</td>\n",
       "      <td>0.134548</td>\n",
       "      <td>0.089164</td>\n",
       "      <td>0.087687</td>\n",
       "      <td>0.068803</td>\n",
       "      <td>0.056297</td>\n",
       "      <td>0.067048</td>\n",
       "    </tr>\n",
       "    <tr>\n",
       "      <th>1</th>\n",
       "      <td>0.144244</td>\n",
       "      <td>-0.000000</td>\n",
       "      <td>0.168207</td>\n",
       "      <td>0.154337</td>\n",
       "      <td>0.111351</td>\n",
       "      <td>0.105396</td>\n",
       "      <td>0.101003</td>\n",
       "      <td>0.082030</td>\n",
       "      <td>0.084094</td>\n",
       "    </tr>\n",
       "    <tr>\n",
       "      <th>2</th>\n",
       "      <td>0.140904</td>\n",
       "      <td>0.168207</td>\n",
       "      <td>-0.000000</td>\n",
       "      <td>0.150761</td>\n",
       "      <td>0.121249</td>\n",
       "      <td>0.114251</td>\n",
       "      <td>0.104434</td>\n",
       "      <td>0.092913</td>\n",
       "      <td>0.096633</td>\n",
       "    </tr>\n",
       "    <tr>\n",
       "      <th>3</th>\n",
       "      <td>0.134548</td>\n",
       "      <td>0.154337</td>\n",
       "      <td>0.150761</td>\n",
       "      <td>-0.000000</td>\n",
       "      <td>0.125045</td>\n",
       "      <td>0.108451</td>\n",
       "      <td>0.103327</td>\n",
       "      <td>0.077061</td>\n",
       "      <td>0.075578</td>\n",
       "    </tr>\n",
       "    <tr>\n",
       "      <th>4</th>\n",
       "      <td>0.089164</td>\n",
       "      <td>0.111351</td>\n",
       "      <td>0.121249</td>\n",
       "      <td>0.125045</td>\n",
       "      <td>-0.000000</td>\n",
       "      <td>0.145238</td>\n",
       "      <td>0.153864</td>\n",
       "      <td>0.127917</td>\n",
       "      <td>0.131373</td>\n",
       "    </tr>\n",
       "    <tr>\n",
       "      <th>5</th>\n",
       "      <td>0.087687</td>\n",
       "      <td>0.105396</td>\n",
       "      <td>0.114251</td>\n",
       "      <td>0.108451</td>\n",
       "      <td>0.145238</td>\n",
       "      <td>-0.000000</td>\n",
       "      <td>0.163775</td>\n",
       "      <td>0.137868</td>\n",
       "      <td>0.142901</td>\n",
       "    </tr>\n",
       "    <tr>\n",
       "      <th>6</th>\n",
       "      <td>0.068803</td>\n",
       "      <td>0.101003</td>\n",
       "      <td>0.104434</td>\n",
       "      <td>0.103327</td>\n",
       "      <td>0.153864</td>\n",
       "      <td>0.163775</td>\n",
       "      <td>-0.000000</td>\n",
       "      <td>0.159607</td>\n",
       "      <td>0.165168</td>\n",
       "    </tr>\n",
       "    <tr>\n",
       "      <th>7</th>\n",
       "      <td>0.056297</td>\n",
       "      <td>0.082030</td>\n",
       "      <td>0.092913</td>\n",
       "      <td>0.077061</td>\n",
       "      <td>0.127917</td>\n",
       "      <td>0.137868</td>\n",
       "      <td>0.159607</td>\n",
       "      <td>-0.000000</td>\n",
       "      <td>0.202187</td>\n",
       "    </tr>\n",
       "    <tr>\n",
       "      <th>8</th>\n",
       "      <td>0.067048</td>\n",
       "      <td>0.084094</td>\n",
       "      <td>0.096633</td>\n",
       "      <td>0.075578</td>\n",
       "      <td>0.131373</td>\n",
       "      <td>0.142901</td>\n",
       "      <td>0.165168</td>\n",
       "      <td>0.202187</td>\n",
       "      <td>-0.000000</td>\n",
       "    </tr>\n",
       "  </tbody>\n",
       "</table>\n",
       "</div>"
      ],
      "text/plain": [
       "          0         1         2         3         4         5         6  \\\n",
       "0 -0.000000  0.144244  0.140904  0.134548  0.089164  0.087687  0.068803   \n",
       "1  0.144244 -0.000000  0.168207  0.154337  0.111351  0.105396  0.101003   \n",
       "2  0.140904  0.168207 -0.000000  0.150761  0.121249  0.114251  0.104434   \n",
       "3  0.134548  0.154337  0.150761 -0.000000  0.125045  0.108451  0.103327   \n",
       "4  0.089164  0.111351  0.121249  0.125045 -0.000000  0.145238  0.153864   \n",
       "5  0.087687  0.105396  0.114251  0.108451  0.145238 -0.000000  0.163775   \n",
       "6  0.068803  0.101003  0.104434  0.103327  0.153864  0.163775 -0.000000   \n",
       "7  0.056297  0.082030  0.092913  0.077061  0.127917  0.137868  0.159607   \n",
       "8  0.067048  0.084094  0.096633  0.075578  0.131373  0.142901  0.165168   \n",
       "\n",
       "          7         8  \n",
       "0  0.056297  0.067048  \n",
       "1  0.082030  0.084094  \n",
       "2  0.092913  0.096633  \n",
       "3  0.077061  0.075578  \n",
       "4  0.127917  0.131373  \n",
       "5  0.137868  0.142901  \n",
       "6  0.159607  0.165168  \n",
       "7 -0.000000  0.202187  \n",
       "8  0.202187 -0.000000  "
      ]
     },
     "execution_count": 16,
     "metadata": {},
     "output_type": "execute_result"
    }
   ],
   "source": [
    "pd.DataFrame(-1* get_analytic_J(18.7))"
   ]
  },
  {
   "cell_type": "code",
   "execution_count": 13,
   "metadata": {},
   "outputs": [
    {
     "data": {
      "text/html": [
       "<div>\n",
       "<style scoped>\n",
       "    .dataframe tbody tr th:only-of-type {\n",
       "        vertical-align: middle;\n",
       "    }\n",
       "\n",
       "    .dataframe tbody tr th {\n",
       "        vertical-align: top;\n",
       "    }\n",
       "\n",
       "    .dataframe thead th {\n",
       "        text-align: right;\n",
       "    }\n",
       "</style>\n",
       "<table border=\"1\" class=\"dataframe\">\n",
       "  <thead>\n",
       "    <tr style=\"text-align: right;\">\n",
       "      <th></th>\n",
       "      <th>0</th>\n",
       "      <th>1</th>\n",
       "      <th>2</th>\n",
       "      <th>3</th>\n",
       "      <th>4</th>\n",
       "      <th>5</th>\n",
       "      <th>6</th>\n",
       "      <th>7</th>\n",
       "      <th>8</th>\n",
       "    </tr>\n",
       "  </thead>\n",
       "  <tbody>\n",
       "    <tr>\n",
       "      <th>0</th>\n",
       "      <td>0.000000</td>\n",
       "      <td>-0.762571</td>\n",
       "      <td>-0.720819</td>\n",
       "      <td>-0.687427</td>\n",
       "      <td>-0.287148</td>\n",
       "      <td>-0.286881</td>\n",
       "      <td>-0.114008</td>\n",
       "      <td>-0.056716</td>\n",
       "      <td>-0.142128</td>\n",
       "    </tr>\n",
       "    <tr>\n",
       "      <th>1</th>\n",
       "      <td>-0.762571</td>\n",
       "      <td>0.000000</td>\n",
       "      <td>-0.897894</td>\n",
       "      <td>-0.796297</td>\n",
       "      <td>-0.398301</td>\n",
       "      <td>-0.354061</td>\n",
       "      <td>-0.314081</td>\n",
       "      <td>-0.200066</td>\n",
       "      <td>-0.199077</td>\n",
       "    </tr>\n",
       "    <tr>\n",
       "      <th>2</th>\n",
       "      <td>-0.720819</td>\n",
       "      <td>-0.897894</td>\n",
       "      <td>0.000000</td>\n",
       "      <td>-0.747207</td>\n",
       "      <td>-0.468619</td>\n",
       "      <td>-0.412538</td>\n",
       "      <td>-0.316234</td>\n",
       "      <td>-0.273441</td>\n",
       "      <td>-0.287892</td>\n",
       "    </tr>\n",
       "    <tr>\n",
       "      <th>3</th>\n",
       "      <td>-0.687427</td>\n",
       "      <td>-0.796297</td>\n",
       "      <td>-0.747207</td>\n",
       "      <td>0.000000</td>\n",
       "      <td>-0.540488</td>\n",
       "      <td>-0.393607</td>\n",
       "      <td>-0.345191</td>\n",
       "      <td>-0.162402</td>\n",
       "      <td>-0.127548</td>\n",
       "    </tr>\n",
       "    <tr>\n",
       "      <th>4</th>\n",
       "      <td>-0.287148</td>\n",
       "      <td>-0.398301</td>\n",
       "      <td>-0.468619</td>\n",
       "      <td>-0.540488</td>\n",
       "      <td>0.000000</td>\n",
       "      <td>-0.665459</td>\n",
       "      <td>-0.726582</td>\n",
       "      <td>-0.531610</td>\n",
       "      <td>-0.543113</td>\n",
       "    </tr>\n",
       "    <tr>\n",
       "      <th>5</th>\n",
       "      <td>-0.286881</td>\n",
       "      <td>-0.354061</td>\n",
       "      <td>-0.412538</td>\n",
       "      <td>-0.393607</td>\n",
       "      <td>-0.665459</td>\n",
       "      <td>0.000000</td>\n",
       "      <td>-0.813375</td>\n",
       "      <td>-0.613241</td>\n",
       "      <td>-0.639523</td>\n",
       "    </tr>\n",
       "    <tr>\n",
       "      <th>6</th>\n",
       "      <td>-0.114008</td>\n",
       "      <td>-0.314081</td>\n",
       "      <td>-0.316234</td>\n",
       "      <td>-0.345191</td>\n",
       "      <td>-0.726582</td>\n",
       "      <td>-0.813375</td>\n",
       "      <td>0.000000</td>\n",
       "      <td>-0.783373</td>\n",
       "      <td>-0.814567</td>\n",
       "    </tr>\n",
       "    <tr>\n",
       "      <th>7</th>\n",
       "      <td>-0.056716</td>\n",
       "      <td>-0.200066</td>\n",
       "      <td>-0.273441</td>\n",
       "      <td>-0.162402</td>\n",
       "      <td>-0.531610</td>\n",
       "      <td>-0.613241</td>\n",
       "      <td>-0.783373</td>\n",
       "      <td>0.000000</td>\n",
       "      <td>-1.197731</td>\n",
       "    </tr>\n",
       "    <tr>\n",
       "      <th>8</th>\n",
       "      <td>-0.142128</td>\n",
       "      <td>-0.199077</td>\n",
       "      <td>-0.287892</td>\n",
       "      <td>-0.127548</td>\n",
       "      <td>-0.543113</td>\n",
       "      <td>-0.639523</td>\n",
       "      <td>-0.814567</td>\n",
       "      <td>-1.197731</td>\n",
       "      <td>0.000000</td>\n",
       "    </tr>\n",
       "  </tbody>\n",
       "</table>\n",
       "</div>"
      ],
      "text/plain": [
       "          0         1         2         3         4         5         6  \\\n",
       "0  0.000000 -0.762571 -0.720819 -0.687427 -0.287148 -0.286881 -0.114008   \n",
       "1 -0.762571  0.000000 -0.897894 -0.796297 -0.398301 -0.354061 -0.314081   \n",
       "2 -0.720819 -0.897894  0.000000 -0.747207 -0.468619 -0.412538 -0.316234   \n",
       "3 -0.687427 -0.796297 -0.747207  0.000000 -0.540488 -0.393607 -0.345191   \n",
       "4 -0.287148 -0.398301 -0.468619 -0.540488  0.000000 -0.665459 -0.726582   \n",
       "5 -0.286881 -0.354061 -0.412538 -0.393607 -0.665459  0.000000 -0.813375   \n",
       "6 -0.114008 -0.314081 -0.316234 -0.345191 -0.726582 -0.813375  0.000000   \n",
       "7 -0.056716 -0.200066 -0.273441 -0.162402 -0.531610 -0.613241 -0.783373   \n",
       "8 -0.142128 -0.199077 -0.287892 -0.127548 -0.543113 -0.639523 -0.814567   \n",
       "\n",
       "          7         8  \n",
       "0 -0.056716 -0.142128  \n",
       "1 -0.200066 -0.199077  \n",
       "2 -0.273441 -0.287892  \n",
       "3 -0.162402 -0.127548  \n",
       "4 -0.531610 -0.543113  \n",
       "5 -0.613241 -0.639523  \n",
       "6 -0.783373 -0.814567  \n",
       "7  0.000000 -1.197731  \n",
       "8 -1.197731  0.000000  "
      ]
     },
     "execution_count": 13,
     "metadata": {},
     "output_type": "execute_result"
    }
   ],
   "source": [
    "J = get_analytic_J(1.4733947977065398)\n",
    "pd.DataFrame(J)"
   ]
  },
  {
   "cell_type": "code",
   "execution_count": 14,
   "metadata": {},
   "outputs": [
    {
     "ename": "NameError",
     "evalue": "name 'minimize_scalar' is not defined",
     "output_type": "error",
     "traceback": [
      "\u001b[0;31m---------------------------------------------------------------------------\u001b[0m",
      "\u001b[0;31mNameError\u001b[0m                                 Traceback (most recent call last)",
      "\u001b[0;32m<ipython-input-14-205e156a648b>\u001b[0m in \u001b[0;36m<module>\u001b[0;34m\u001b[0m\n\u001b[0;32m----> 1\u001b[0;31m \u001b[0mminimize_scalar\u001b[0m\u001b[0;34m(\u001b[0m\u001b[0mmy_chi_squared\u001b[0m\u001b[0;34m)\u001b[0m\u001b[0;34m\u001b[0m\u001b[0;34m\u001b[0m\u001b[0m\n\u001b[0m",
      "\u001b[0;31mNameError\u001b[0m: name 'minimize_scalar' is not defined"
     ]
    }
   ],
   "source": [
    "minimize_scalar(my_chi_squared)"
   ]
  },
  {
   "cell_type": "code",
   "execution_count": 9,
   "metadata": {},
   "outputs": [],
   "source": [
    "from scipy.optimize import minimize_scalar"
   ]
  },
  {
   "cell_type": "code",
   "execution_count": 7,
   "metadata": {},
   "outputs": [
    {
     "data": {
      "text/plain": [
       "0"
      ]
     },
     "execution_count": 7,
     "metadata": {},
     "output_type": "execute_result"
    }
   ],
   "source": [
    "# IT DOESN'T MATTER NOW, BUT MAKE SURE THAT YOU UPDATE WITH THE REGULARIZATION TERM"
   ]
  }
 ],
 "metadata": {
  "kernelspec": {
   "display_name": "Python 3",
   "language": "python",
   "name": "python3"
  },
  "language_info": {
   "codemirror_mode": {
    "name": "ipython",
    "version": 3
   },
   "file_extension": ".py",
   "mimetype": "text/x-python",
   "name": "python",
   "nbconvert_exporter": "python",
   "pygments_lexer": "ipython3",
   "version": "3.7.1"
  }
 },
 "nbformat": 4,
 "nbformat_minor": 2
}
