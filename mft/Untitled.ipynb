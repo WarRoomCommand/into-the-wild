{
 "cells": [
  {
   "cell_type": "markdown",
   "metadata": {},
   "source": [
    "## Pseudolikelihood (finally)"
   ]
  },
  {
   "cell_type": "code",
   "execution_count": 6,
   "metadata": {},
   "outputs": [],
   "source": [
    "import numpy as np"
   ]
  },
  {
   "cell_type": "code",
   "execution_count": 72,
   "metadata": {},
   "outputs": [],
   "source": [
    "samples = np.array(samples)"
   ]
  },
  {
   "cell_type": "code",
   "execution_count": 3,
   "metadata": {},
   "outputs": [],
   "source": [
    "from coniii import define_ising_helper_functions\n",
    "calc_e, calc_observables, mchApproximation = define_ising_helper_functions()"
   ]
  },
  {
   "cell_type": "code",
   "execution_count": 21,
   "metadata": {},
   "outputs": [
    {
     "data": {
      "text/plain": [
       "999"
      ]
     },
     "execution_count": 21,
     "metadata": {},
     "output_type": "execute_result"
    }
   ],
   "source": [
    "sub_to_ind(9, 0, 1000)"
   ]
  },
  {
   "cell_type": "code",
   "execution_count": 51,
   "metadata": {},
   "outputs": [
    {
     "data": {
      "text/plain": [
       "810"
      ]
     },
     "execution_count": 51,
     "metadata": {},
     "output_type": "execute_result"
    }
   ],
   "source": [
    "samples.shape[0]"
   ]
  },
  {
   "cell_type": "markdown",
   "metadata": {},
   "source": [
    "get_multipliers_r just gets all the Jij elements that have at least one i, j = r. It's symmetric so u only gotta do it once. args is a list and kwargs is a dictionary"
   ]
  },
  {
   "cell_type": "code",
   "execution_count": 52,
   "metadata": {},
   "outputs": [],
   "source": [
    "get_multipliers_r, get_observables_r = define_pseudo_ising_helper_functions(9)"
   ]
  },
  {
   "cell_type": "code",
   "execution_count": 44,
   "metadata": {},
   "outputs": [
    {
     "data": {
      "text/plain": [
       "(array([ 0.      ,  0.40352 ,  0.31349 ,  0.37752 , -0.027277,  0.21158 ,\n",
       "        -0.30625 , -0.23198 ,  0.24388 ]), [0, 9, 10, 11, 12, 13, 14, 15, 16])"
      ]
     },
     "execution_count": 44,
     "metadata": {},
     "output_type": "execute_result"
    }
   ],
   "source": [
    "get_multipliers_r(0, multipliers)"
   ]
  },
  {
   "cell_type": "code",
   "execution_count": 48,
   "metadata": {},
   "outputs": [
    {
     "data": {
      "text/plain": [
       "(810, 9)"
      ]
     },
     "execution_count": 48,
     "metadata": {},
     "output_type": "execute_result"
    }
   ],
   "source": [
    "np.shape(samples)"
   ]
  },
  {
   "cell_type": "code",
   "execution_count": 81,
   "metadata": {},
   "outputs": [
    {
     "data": {
      "text/plain": [
       "(<function __main__.async-def-wrapper.<locals>.get_multipliers_r(r, multipliers, N=9)>,\n",
       " <function __main__.async-def-wrapper.<locals>.calc_observables_r(r, X, N=9)>)"
      ]
     },
     "execution_count": 81,
     "metadata": {},
     "output_type": "execute_result"
    }
   ],
   "source": [
    "\n",
    "\n",
    "    def get_multipliers_r(r, multipliers, N=N):\n",
    "        \"\"\"Return r's field and all couplings to spin r.\n",
    "        Parameters\n",
    "        ----------a\n",
    "        r : int\n",
    "        multipliers : ndarray\n",
    "            All fields and couplings concatenated together.\n",
    "        Returns\n",
    "        -------\n",
    "        ndarray\n",
    "            Relevant multipliers.\n",
    "        list\n",
    "            Index of where multipliers appear in full multipliers array.\n",
    "        \"\"\"\n",
    "        \n",
    "        ix = [r] \n",
    "        multipliersr = np.zeros(N)\n",
    "        multipliersr[0] = multipliers[r]\n",
    "\n",
    "        ixcounter = 1\n",
    "        for i in range(N):\n",
    "            if i!=r:\n",
    "                if i<r:\n",
    "                    ix.append( sub_to_ind(N, i, r) + N )\n",
    "                    multipliersr[ixcounter] = multipliers[ix[ixcounter]]\n",
    "                else:\n",
    "                    ix.append( sub_to_ind(N, r, i) + N )\n",
    "                    multipliersr[ixcounter] = multipliers[ix[ixcounter]]\n",
    "                ixcounter += 1\n",
    "        return multipliersr, ix\n",
    "\n",
    "\n",
    "    def calc_observables_r(r, X, N=N):\n",
    "        \"\"\"Return the observables relevant for calculating the conditional probability of\n",
    "        spin r.\n",
    "        Parameters\n",
    "        ----------\n",
    "        r : int\n",
    "            Spin index.\n",
    "        X : ndarray\n",
    "            Data samples of dimensions (n_samples, n_dim).\n",
    "        Returns\n",
    "        -------\n",
    "        ndarray\n",
    "            observables\n",
    "        \"\"\"\n",
    "\n",
    "        obs = np.zeros((X.shape[0],N))\n",
    "        for rowix in range(X.shape[0]):\n",
    "            ixcounter = 1\n",
    "            obs[rowix,0] = X[rowix,r]\n",
    "            \n",
    "            for i in range(N-1):\n",
    "                for j in range(i+1,N):\n",
    "                    if i==r or j==r:\n",
    "                        obs[rowix,ixcounter] = X[rowix,i]*X[rowix,j]\n",
    "                        ixcounter += 1\n",
    "        return obs\n",
    "\n",
    "    return get_multipliers_r, calc_observables_r \n"
   ]
  },
  {
   "cell_type": "code",
   "execution_count": 82,
   "metadata": {},
   "outputs": [],
   "source": [
    "A=calc_observables_r(0, samples)"
   ]
  },
  {
   "cell_type": "code",
   "execution_count": 85,
   "metadata": {},
   "outputs": [
    {
     "data": {
      "text/plain": [
       "array([1., 1., 1., 1., 1., 1., 1., 1., 1.])"
      ]
     },
     "execution_count": 85,
     "metadata": {},
     "output_type": "execute_result"
    }
   ],
   "source": [
    "samples[0]"
   ]
  },
  {
   "cell_type": "code",
   "execution_count": 83,
   "metadata": {},
   "outputs": [
    {
     "data": {
      "text/plain": [
       "array([[ 1.,  1.,  1., ...,  1.,  1.,  1.],\n",
       "       [-1.,  1.,  1., ...,  1.,  1.,  1.],\n",
       "       [ 1., -1., -1., ..., -1., -1., -1.],\n",
       "       ...,\n",
       "       [ 1.,  1.,  1., ..., -1., -1., -1.],\n",
       "       [-1.,  1.,  1., ...,  1.,  1.,  1.],\n",
       "       [-1., -1., -1., ...,  1., -1.,  1.]])"
      ]
     },
     "execution_count": 83,
     "metadata": {},
     "output_type": "execute_result"
    }
   ],
   "source": [
    "A"
   ]
  },
  {
   "cell_type": "code",
   "execution_count": 78,
   "metadata": {},
   "outputs": [
    {
     "data": {
      "text/plain": [
       "9"
      ]
     },
     "execution_count": 78,
     "metadata": {},
     "output_type": "execute_result"
    }
   ],
   "source": [
    "len(A[0])"
   ]
  },
  {
   "cell_type": "code",
   "execution_count": null,
   "metadata": {},
   "outputs": [],
   "source": []
  }
 ],
 "metadata": {
  "kernelspec": {
   "display_name": "Python 3",
   "language": "python",
   "name": "python3"
  },
  "language_info": {
   "codemirror_mode": {
    "name": "ipython",
    "version": 3
   },
   "file_extension": ".py",
   "mimetype": "text/x-python",
   "name": "python",
   "nbconvert_exporter": "python",
   "pygments_lexer": "ipython3",
   "version": "3.6.8"
  }
 },
 "nbformat": 4,
 "nbformat_minor": 2
}
